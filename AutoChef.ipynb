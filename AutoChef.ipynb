{
 "cells": [
  {
   "metadata": {},
   "cell_type": "markdown",
   "source": "# AutoChef",
   "id": "7ae4fb54b8ab7ea6"
  },
  {
   "metadata": {},
   "cell_type": "markdown",
   "source": "## Prepare environment and process data",
   "id": "a223744fd8578d03"
  },
  {
   "metadata": {},
   "cell_type": "markdown",
   "source": [
    "Data Source: https://www.kaggle.com/datasets/irkaal/foodcom-recipes-and-reviews?resource=download\n",
    "\n",
    "Data Source v2: https://app.roboflow.com/bens-workspace-3xdyh/fridge-detection-aymme/browse?queryText=&pageSize=50&startingIndex=0&browseQuery=true"
   ],
   "id": "9cab27aba6e3d9f8"
  },
  {
   "metadata": {
    "ExecuteTime": {
     "end_time": "2025-08-06T23:54:41.196165Z",
     "start_time": "2025-08-06T23:54:41.192741Z"
    }
   },
   "cell_type": "code",
   "source": [
    "import os\n",
    "from ultralytics import YOLO\n",
    "import torch\n",
    "import cv2\n",
    "import requests"
   ],
   "id": "a42200c6c729d180",
   "outputs": [],
   "execution_count": 12
  },
  {
   "metadata": {},
   "cell_type": "markdown",
   "source": "## Take 2 - use YOLO for a simplified approach",
   "id": "a014be852acc2435"
  },
  {
   "metadata": {
    "ExecuteTime": {
     "end_time": "2025-08-05T00:32:44.399613Z",
     "start_time": "2025-08-05T00:32:44.260770Z"
    }
   },
   "cell_type": "code",
   "source": [
    "\n",
    "print(\"CUDA Available:\", torch.cuda.is_available())\n",
    "print(\"Device Name:\", torch.cuda.get_device_name(0) if torch.cuda.is_available() else \"No GPU\")\n",
    "\n",
    "print(torch.__version__)\n",
    "print(torch.version.cuda)\n"
   ],
   "id": "1a9d09664c981b4e",
   "outputs": [
    {
     "name": "stdout",
     "output_type": "stream",
     "text": [
      "CUDA Available: True\n",
      "Device Name: NVIDIA GeForce GTX 1660\n",
      "2.3.1+cu118\n",
      "11.8\n",
      "Torch: 2.3.1+cu118\n",
      "Torchvision: 0.18.1+cu118\n",
      "CUDA available: True\n",
      "tensor([0], device='cuda:0')\n"
     ]
    }
   ],
   "execution_count": 11
  },
  {
   "metadata": {},
   "cell_type": "code",
   "outputs": [],
   "execution_count": null,
   "source": [
    "!pip install roboflow\n",
    "\n",
    "from roboflow import Roboflow\n",
    "rf = Roboflow(api_key=\"8zoDBiAT84ugEQEfOSDf\")\n",
    "project = rf.workspace(\"bens-workspace-3xdyh\").project(\"food-item-detection-fggyf-j86bp\")\n",
    "version = project.version(1)\n",
    "dataset = version.download(\"yolov8\")\n"
   ],
   "id": "eebcbe37ecec0dd0"
  },
  {
   "metadata": {},
   "cell_type": "markdown",
   "source": "### Core functionality",
   "id": "11bbadd980cecf6e"
  },
  {
   "metadata": {
    "ExecuteTime": {
     "end_time": "2025-08-06T23:42:23.144217Z",
     "start_time": "2025-08-06T23:42:20.648930Z"
    }
   },
   "cell_type": "code",
   "source": [
    "# Load your trained model\n",
    "model = YOLO('best_v2.pt')\n",
    "\n",
    "# Load an image\n",
    "img = cv2.imread('fridge_test_2.jpg')\n",
    "\n",
    "# Run inference\n",
    "results = model(img)\n",
    "\n",
    "# Print detected objects\n",
    "for result in results:\n",
    "    boxes = result.boxes\n",
    "    for box in boxes:\n",
    "        class_idx = int(box.cls)\n",
    "        class_name = model.names[class_idx]\n",
    "        confidence = float(box.conf)\n",
    "        print(f\"Class: {class_name}, Confidence: {confidence:.2f}, Box: {box.xyxy}\")\n",
    "\n",
    "confidence_threshold = 0.7\n",
    "\n",
    "for result in results:\n",
    "    # Filter boxes by confidence\n",
    "    high_conf_boxes = [box for box in result.boxes if float(box.conf) > confidence_threshold]\n",
    "    if high_conf_boxes:\n",
    "        # Optionally, update result.boxes to only include high confidence boxes\n",
    "        result.boxes = high_conf_boxes\n",
    "        result.show()"
   ],
   "id": "6c2ba69f09ed27cd",
   "outputs": [
    {
     "name": "stdout",
     "output_type": "stream",
     "text": [
      "\n",
      "0: 640x640 1 apple, 1 butter, 1 carrot, 1 chicken, 1 corn, 1 green_beans, 1 ground_beef, 1 ham, 1 spinach, 2 sugars, 1 tomato, 14.5ms\n",
      "Speed: 8.2ms preprocess, 14.5ms inference, 322.7ms postprocess per image at shape (1, 3, 640, 640)\n",
      "Class: tomato, Confidence: 0.94, Box: tensor([[317.9568, 268.1198, 425.1532, 314.7433]], device='cuda:0')\n",
      "Class: apple, Confidence: 0.94, Box: tensor([[173.8641, 120.6684, 282.8015, 157.4133]], device='cuda:0')\n",
      "Class: chicken, Confidence: 0.93, Box: tensor([[168.5426, 258.2592, 292.6954, 313.8521]], device='cuda:0')\n",
      "Class: spinach, Confidence: 0.92, Box: tensor([[167.8266, 362.3416, 339.5656, 416.4059]], device='cuda:0')\n",
      "Class: sugar, Confidence: 0.88, Box: tensor([[420.7213, 491.2953, 489.9366, 570.9257]], device='cuda:0')\n",
      "Class: ground_beef, Confidence: 0.86, Box: tensor([[252.9537, 538.1412, 357.7353, 592.6963]], device='cuda:0')\n",
      "Class: corn, Confidence: 0.85, Box: tensor([[472.1060, 121.4534, 525.9878, 157.7587]], device='cuda:0')\n",
      "Class: green_beans, Confidence: 0.85, Box: tensor([[382.6111, 364.3743, 529.1273, 419.2668]], device='cuda:0')\n",
      "Class: butter, Confidence: 0.82, Box: tensor([[417.5353, 112.5489, 525.5894, 155.8389]], device='cuda:0')\n",
      "Class: sugar, Confidence: 0.81, Box: tensor([[182.5113, 499.4859, 256.0350, 577.7882]], device='cuda:0')\n",
      "Class: ham, Confidence: 0.77, Box: tensor([[370.7763, 571.4282, 523.2258, 608.0525]], device='cuda:0')\n",
      "Class: carrot, Confidence: 0.64, Box: tensor([[328.8063, 131.3010, 419.2739, 157.7039]], device='cuda:0')\n"
     ]
    }
   ],
   "execution_count": 3
  },
  {
   "metadata": {
    "ExecuteTime": {
     "end_time": "2025-08-06T23:42:23.608239Z",
     "start_time": "2025-08-06T23:42:23.600582Z"
    }
   },
   "cell_type": "code",
   "source": [
    "# Get a list of detected classes\n",
    "detected_classes = [model.names[int(box.cls)] for box in results[0].boxes if float(box.conf) > confidence_threshold]\n",
    "print(\"Detected classes:\", detected_classes)"
   ],
   "id": "dbf74e65132a4fb4",
   "outputs": [
    {
     "name": "stdout",
     "output_type": "stream",
     "text": [
      "Detected classes: ['tomato', 'apple', 'chicken', 'spinach', 'sugar', 'ground_beef', 'corn', 'green_beans', 'butter', 'sugar', 'ham']\n"
     ]
    }
   ],
   "execution_count": 4
  },
  {
   "metadata": {
    "ExecuteTime": {
     "end_time": "2025-08-06T23:43:27.188117Z",
     "start_time": "2025-08-06T23:43:25.662094Z"
    }
   },
   "cell_type": "code",
   "source": [
    "# Get recipes that can be made with the detected ingredients\n",
    "url = \"https://api.spoonacular.com/recipes/findByIngredients\"\n",
    "\n",
    "params = {\n",
    "    \"ingredients\": \",\".join(detected_classes),\n",
    "    \"ignorePantry\": True,\n",
    "    \"ranking\": 2,\n",
    "    \"number\": 5,\n",
    "    'apiKey': os.getenv(\"SPOONACULAR_API_KEY\")\n",
    "}\n",
    "\n",
    "print(\"Requesting URL with params:\", params)\n",
    "response = requests.get(url, params=params)\n",
    "\n",
    "response = requests.get(\n",
    "    url,\n",
    "    params=params\n",
    ")\n",
    "\n",
    "print(response.json())\n",
    "data = response.json()"
   ],
   "id": "c6ffec7b87eafa5",
   "outputs": [
    {
     "name": "stdout",
     "output_type": "stream",
     "text": [
      "Requesting URL with params: {'ingredients': 'tomato,apple,chicken,spinach,sugar,ground_beef,corn,green_beans,butter,sugar,ham', 'ignorePantry': True, 'ranking': 2, 'number': 5, 'apiKey': '6ce254339e924106b17f13f67dcf1146'}\n",
      "[{'id': 769775, 'title': 'Simple Spinach and Tomato Frittata', 'image': 'https://img.spoonacular.com/recipes/769775-312x231.jpg', 'imageType': 'jpg', 'usedIngredientCount': 2, 'missedIngredientCount': 2, 'missedIngredients': [{'id': 99037, 'amount': 1.0, 'unit': 'small', 'unitLong': 'small', 'unitShort': 'small', 'aisle': 'Pasta and Rice', 'name': 'personal skillet', 'original': 'small personal skillet', 'originalName': 'personal skillet', 'meta': [], 'image': 'https://img.spoonacular.com/ingredients_100x100/no.jpg'}, {'id': 1123, 'amount': 2.0, 'unit': '', 'unitLong': '', 'unitShort': '', 'aisle': 'Milk, Eggs, Other Dairy', 'name': 'eggs', 'original': '2-3 lightly beaten eggs', 'originalName': 'lightly beaten eggs', 'meta': ['lightly beaten'], 'image': 'https://img.spoonacular.com/ingredients_100x100/egg.png'}], 'usedIngredients': [{'id': 10311529, 'amount': 1.0, 'unit': 'serving', 'unitLong': 'serving', 'unitShort': 'serving', 'aisle': 'Produce', 'name': 'cherry tomatoes', 'original': 'cherry tomatoes, halved', 'originalName': 'cherry tomatoes, halved', 'meta': ['halved'], 'image': 'https://img.spoonacular.com/ingredients_100x100/cherry-tomatoes.png'}, {'id': 10011457, 'amount': 1.0, 'unit': 'serving', 'unitLong': 'serving', 'unitShort': 'serving', 'aisle': 'Produce', 'name': 'spinach leaves', 'original': 'spinach leaves', 'originalName': 'spinach leaves', 'meta': [], 'image': 'https://img.spoonacular.com/ingredients_100x100/spinach.jpg'}], 'unusedIngredients': [{'id': 9003, 'amount': 1.0, 'unit': 'serving', 'unitLong': 'serving', 'unitShort': 'serving', 'aisle': 'Produce', 'name': 'apple', 'original': 'apple', 'originalName': 'apple', 'meta': [], 'image': 'https://img.spoonacular.com/ingredients_100x100/apple.jpg'}, {'id': 5006, 'amount': 1.0, 'unit': 'serving', 'unitLong': 'serving', 'unitShort': 'serving', 'aisle': 'Meat', 'name': 'whole chicken', 'original': 'chicken', 'originalName': 'chicken', 'meta': [], 'image': 'https://img.spoonacular.com/ingredients_100x100/whole-chicken.jpg'}, {'id': 23572, 'amount': 1.0, 'unit': 'serving', 'unitLong': 'serving', 'unitShort': 'serving', 'aisle': 'Frozen;Meat', 'name': 'ground_beef', 'original': 'ground_beef', 'originalName': 'ground_beef', 'meta': [], 'image': 'https://img.spoonacular.com/ingredients_100x100/beef-cubes-raw.png'}, {'id': 11168, 'amount': 1.0, 'unit': 'serving', 'unitLong': 'serving', 'unitShort': 'serving', 'aisle': 'Produce', 'name': 'corn', 'original': 'corn', 'originalName': 'corn', 'meta': [], 'image': 'https://img.spoonacular.com/ingredients_100x100/corn.png'}, {'id': 1001, 'amount': 1.0, 'unit': 'serving', 'unitLong': 'serving', 'unitShort': 'serving', 'aisle': 'Milk, Eggs, Other Dairy', 'name': 'butter', 'original': 'butter', 'originalName': 'butter', 'meta': [], 'image': 'https://img.spoonacular.com/ingredients_100x100/butter-sliced.jpg'}, {'id': 10151, 'amount': 1.0, 'unit': 'serving', 'unitLong': 'serving', 'unitShort': 'serving', 'aisle': 'Meat', 'name': 'ham', 'original': 'ham', 'originalName': 'ham', 'meta': [], 'image': 'https://img.spoonacular.com/ingredients_100x100/ham-whole.jpg'}], 'likes': 7}, {'id': 663748, 'title': 'Traditional Apple Tart', 'image': 'https://img.spoonacular.com/recipes/663748-312x231.jpg', 'imageType': 'jpg', 'usedIngredientCount': 2, 'missedIngredientCount': 2, 'missedIngredients': [{'id': 9083, 'amount': 4.0, 'unit': 'tablespoons', 'unitLong': 'tablespoons', 'unitShort': 'Tbsp', 'aisle': 'Produce', 'name': 'blackcurrant jam', 'original': '4 tablespoons blackcurrant jam', 'originalName': 'blackcurrant jam', 'meta': [], 'image': 'https://img.spoonacular.com/ingredients_100x100/black-currants.png'}, {'id': 10018338, 'amount': 500.0, 'unit': 'grams', 'unitLong': 'grams', 'unitShort': 'g', 'aisle': 'Frozen', 'name': 'oz short crust pastry - ready made if you want', 'original': '500 grams 1lb 2oz short crust pastry – ready made if you want', 'originalName': '1lb 2oz short crust pastry – ready made if you want', 'meta': [], 'image': 'https://img.spoonacular.com/ingredients_100x100/dough.jpg'}], 'usedIngredients': [{'id': 1089003, 'amount': 1.5, 'unit': 'pounds', 'unitLong': 'pounds', 'unitShort': 'lb', 'aisle': 'Produce', 'name': 'granny smiths', 'original': '1 1/2 pounds 3 cooking apples such as Bramley or Granny Smiths', 'originalName': '3 cooking apples such as Bramley or Granny Smiths', 'meta': [], 'image': 'https://img.spoonacular.com/ingredients_100x100/grannysmith-apple.png'}, {'id': 1145, 'amount': 80.0, 'unit': 'grams', 'unitLong': 'grams', 'unitShort': 'g', 'aisle': 'Milk, Eggs, Other Dairy', 'name': 'butter', 'original': '80 grams 3oz unsalted butter', 'originalName': '3oz unsalted butter', 'meta': ['unsalted'], 'extendedName': 'unsalted butter', 'image': 'https://img.spoonacular.com/ingredients_100x100/butter-sliced.jpg'}], 'unusedIngredients': [{'id': 11529, 'amount': 1.0, 'unit': 'serving', 'unitLong': 'serving', 'unitShort': 'serving', 'aisle': 'Produce', 'name': 'tomato', 'original': 'tomato', 'originalName': 'tomato', 'meta': [], 'image': 'https://img.spoonacular.com/ingredients_100x100/tomato.png'}, {'id': 5006, 'amount': 1.0, 'unit': 'serving', 'unitLong': 'serving', 'unitShort': 'serving', 'aisle': 'Meat', 'name': 'whole chicken', 'original': 'chicken', 'originalName': 'chicken', 'meta': [], 'image': 'https://img.spoonacular.com/ingredients_100x100/whole-chicken.jpg'}, {'id': 10011457, 'amount': 1.0, 'unit': 'serving', 'unitLong': 'serving', 'unitShort': 'serving', 'aisle': 'Produce', 'name': 'spinach', 'original': 'spinach', 'originalName': 'spinach', 'meta': [], 'image': 'https://img.spoonacular.com/ingredients_100x100/spinach.jpg'}, {'id': 23572, 'amount': 1.0, 'unit': 'serving', 'unitLong': 'serving', 'unitShort': 'serving', 'aisle': 'Frozen;Meat', 'name': 'ground_beef', 'original': 'ground_beef', 'originalName': 'ground_beef', 'meta': [], 'image': 'https://img.spoonacular.com/ingredients_100x100/beef-cubes-raw.png'}, {'id': 11168, 'amount': 1.0, 'unit': 'serving', 'unitLong': 'serving', 'unitShort': 'serving', 'aisle': 'Produce', 'name': 'corn', 'original': 'corn', 'originalName': 'corn', 'meta': [], 'image': 'https://img.spoonacular.com/ingredients_100x100/corn.png'}, {'id': 10151, 'amount': 1.0, 'unit': 'serving', 'unitLong': 'serving', 'unitShort': 'serving', 'aisle': 'Meat', 'name': 'ham', 'original': 'ham', 'originalName': 'ham', 'meta': [], 'image': 'https://img.spoonacular.com/ingredients_100x100/ham-whole.jpg'}], 'likes': 1}, {'id': 640089, 'title': 'Corn on the Cob in Cilantro and Lime Butter', 'image': 'https://img.spoonacular.com/recipes/640089-312x231.jpg', 'imageType': 'jpg', 'usedIngredientCount': 2, 'missedIngredientCount': 2, 'missedIngredients': [{'id': 11165, 'amount': 1.0, 'unit': 'handful', 'unitLong': 'handful', 'unitShort': 'handful', 'aisle': 'Produce', 'name': 'cilantro', 'original': '1 handful of Cilantro', 'originalName': 'Cilantro', 'meta': [], 'image': 'https://img.spoonacular.com/ingredients_100x100/cilantro.png'}, {'id': 9159, 'amount': 1.0, 'unit': 'tablespoon', 'unitLong': 'tablespoon', 'unitShort': 'Tbsp', 'aisle': 'Produce', 'name': 'lime', 'original': '1 tablespoon of lime', 'originalName': 'lime', 'meta': [], 'image': 'https://img.spoonacular.com/ingredients_100x100/lime.jpg'}], 'usedIngredients': [{'id': 1001, 'amount': 1.0, 'unit': 'stick', 'unitLong': 'stick', 'unitShort': 'stick', 'aisle': 'Milk, Eggs, Other Dairy', 'name': 'butter', 'original': '1 stick of melted butter', 'originalName': 'melted butter', 'meta': ['melted'], 'image': 'https://img.spoonacular.com/ingredients_100x100/butter-sliced.jpg'}, {'id': 11167, 'amount': 3.0, 'unit': '', 'unitLong': '', 'unitShort': '', 'aisle': 'Produce', 'name': 'corn on the cob', 'original': '3 Corn on the cob', 'originalName': 'Corn on the cob', 'meta': [], 'image': 'https://img.spoonacular.com/ingredients_100x100/corn-on-the-cob.jpg'}], 'unusedIngredients': [{'id': 11529, 'amount': 1.0, 'unit': 'serving', 'unitLong': 'serving', 'unitShort': 'serving', 'aisle': 'Produce', 'name': 'tomato', 'original': 'tomato', 'originalName': 'tomato', 'meta': [], 'image': 'https://img.spoonacular.com/ingredients_100x100/tomato.png'}, {'id': 9003, 'amount': 1.0, 'unit': 'serving', 'unitLong': 'serving', 'unitShort': 'serving', 'aisle': 'Produce', 'name': 'apple', 'original': 'apple', 'originalName': 'apple', 'meta': [], 'image': 'https://img.spoonacular.com/ingredients_100x100/apple.jpg'}, {'id': 5006, 'amount': 1.0, 'unit': 'serving', 'unitLong': 'serving', 'unitShort': 'serving', 'aisle': 'Meat', 'name': 'whole chicken', 'original': 'chicken', 'originalName': 'chicken', 'meta': [], 'image': 'https://img.spoonacular.com/ingredients_100x100/whole-chicken.jpg'}, {'id': 10011457, 'amount': 1.0, 'unit': 'serving', 'unitLong': 'serving', 'unitShort': 'serving', 'aisle': 'Produce', 'name': 'spinach', 'original': 'spinach', 'originalName': 'spinach', 'meta': [], 'image': 'https://img.spoonacular.com/ingredients_100x100/spinach.jpg'}, {'id': 23572, 'amount': 1.0, 'unit': 'serving', 'unitLong': 'serving', 'unitShort': 'serving', 'aisle': 'Frozen;Meat', 'name': 'ground_beef', 'original': 'ground_beef', 'originalName': 'ground_beef', 'meta': [], 'image': 'https://img.spoonacular.com/ingredients_100x100/beef-cubes-raw.png'}, {'id': 10151, 'amount': 1.0, 'unit': 'serving', 'unitLong': 'serving', 'unitShort': 'serving', 'aisle': 'Meat', 'name': 'ham', 'original': 'ham', 'originalName': 'ham', 'meta': [], 'image': 'https://img.spoonacular.com/ingredients_100x100/ham-whole.jpg'}], 'likes': 1}, {'id': 645733, 'title': 'Grilled Ham and Swiss Sandwich', 'image': 'https://img.spoonacular.com/recipes/645733-312x231.jpg', 'imageType': 'jpg', 'usedIngredientCount': 2, 'missedIngredientCount': 2, 'missedIngredients': [{'id': 1040, 'amount': 2.0, 'unit': 'Slices', 'unitLong': 'Slices', 'unitShort': 'slice', 'aisle': 'Cheese', 'name': 'swiss cheese', 'original': '2 Slices Swiss Cheese', 'originalName': 'Swiss Cheese', 'meta': [], 'image': 'https://img.spoonacular.com/ingredients_100x100/Swiss-cheese.jpg'}, {'id': 18069, 'amount': 2.0, 'unit': 'Slices', 'unitLong': 'Slices', 'unitShort': 'slice', 'aisle': 'Bakery/Bread', 'name': 'bread', 'original': '2 Slices White Bread', 'originalName': 'White Bread', 'meta': ['white'], 'extendedName': 'white bread', 'image': 'https://img.spoonacular.com/ingredients_100x100/white-bread.jpg'}], 'usedIngredients': [{'id': 1001, 'amount': 2.0, 'unit': '', 'unitLong': '', 'unitShort': '', 'aisle': 'Milk, Eggs, Other Dairy', 'name': 'pats of butter', 'original': '2 pats of butter', 'originalName': 'pats of butter', 'meta': [], 'image': 'https://img.spoonacular.com/ingredients_100x100/butter-sliced.jpg'}, {'id': 10010151, 'amount': 3.0, 'unit': 'Pieces', 'unitLong': '', 'unitShort': '', 'aisle': 'Meat', 'name': 'ham', 'original': '3 Pieces Thin Sliced Ham', 'originalName': 'Thin Sliced Ham', 'meta': ['sliced', 'thin'], 'image': 'https://img.spoonacular.com/ingredients_100x100/ham.png'}], 'unusedIngredients': [{'id': 11529, 'amount': 1.0, 'unit': 'serving', 'unitLong': 'serving', 'unitShort': 'serving', 'aisle': 'Produce', 'name': 'tomato', 'original': 'tomato', 'originalName': 'tomato', 'meta': [], 'image': 'https://img.spoonacular.com/ingredients_100x100/tomato.png'}, {'id': 9003, 'amount': 1.0, 'unit': 'serving', 'unitLong': 'serving', 'unitShort': 'serving', 'aisle': 'Produce', 'name': 'apple', 'original': 'apple', 'originalName': 'apple', 'meta': [], 'image': 'https://img.spoonacular.com/ingredients_100x100/apple.jpg'}, {'id': 5006, 'amount': 1.0, 'unit': 'serving', 'unitLong': 'serving', 'unitShort': 'serving', 'aisle': 'Meat', 'name': 'whole chicken', 'original': 'chicken', 'originalName': 'chicken', 'meta': [], 'image': 'https://img.spoonacular.com/ingredients_100x100/whole-chicken.jpg'}, {'id': 10011457, 'amount': 1.0, 'unit': 'serving', 'unitLong': 'serving', 'unitShort': 'serving', 'aisle': 'Produce', 'name': 'spinach', 'original': 'spinach', 'originalName': 'spinach', 'meta': [], 'image': 'https://img.spoonacular.com/ingredients_100x100/spinach.jpg'}, {'id': 23572, 'amount': 1.0, 'unit': 'serving', 'unitLong': 'serving', 'unitShort': 'serving', 'aisle': 'Frozen;Meat', 'name': 'ground_beef', 'original': 'ground_beef', 'originalName': 'ground_beef', 'meta': [], 'image': 'https://img.spoonacular.com/ingredients_100x100/beef-cubes-raw.png'}, {'id': 11168, 'amount': 1.0, 'unit': 'serving', 'unitLong': 'serving', 'unitShort': 'serving', 'aisle': 'Produce', 'name': 'corn', 'original': 'corn', 'originalName': 'corn', 'meta': [], 'image': 'https://img.spoonacular.com/ingredients_100x100/corn.png'}], 'likes': 1}, {'id': 1674265, 'title': 'Easy Tomato Soup', 'image': 'https://img.spoonacular.com/recipes/1674265-312x231.jpg', 'imageType': 'jpg', 'usedIngredientCount': 2, 'missedIngredientCount': 2, 'missedIngredients': [{'id': 11282, 'amount': 1.0, 'unit': '', 'unitLong': '', 'unitShort': '', 'aisle': 'Produce', 'name': 'onion', 'original': '1 onion', 'originalName': 'onion', 'meta': [], 'image': 'https://img.spoonacular.com/ingredients_100x100/brown-onion.png'}, {'id': 6615, 'amount': 1.5, 'unit': 'cups', 'unitLong': 'cups', 'unitShort': 'cup', 'aisle': 'Canned and Jarred', 'name': 'vegetable broth', 'original': '1.5 cups vegetable broth', 'originalName': 'vegetable broth', 'meta': [], 'image': 'https://img.spoonacular.com/ingredients_100x100/chicken-broth.png'}], 'usedIngredients': [{'id': 10011531, 'amount': 28.0, 'unit': 'ounces', 'unitLong': 'ounces', 'unitShort': 'oz', 'aisle': 'Canned and Jarred', 'name': 'tomatoes', 'original': '28 ounces canned whole tomatoes', 'originalName': 'canned whole tomatoes', 'meta': ['whole', 'canned'], 'extendedName': 'canned whole tomatoes', 'image': 'https://img.spoonacular.com/ingredients_100x100/tomatoes-canned.png'}, {'id': 1001, 'amount': 4.0, 'unit': 'tablespoons', 'unitLong': 'tablespoons', 'unitShort': 'Tbsp', 'aisle': 'Milk, Eggs, Other Dairy', 'name': 'butter', 'original': '4 tablespoons butter', 'originalName': 'butter', 'meta': [], 'image': 'https://img.spoonacular.com/ingredients_100x100/butter-sliced.jpg'}], 'unusedIngredients': [{'id': 9003, 'amount': 1.0, 'unit': 'serving', 'unitLong': 'serving', 'unitShort': 'serving', 'aisle': 'Produce', 'name': 'apple', 'original': 'apple', 'originalName': 'apple', 'meta': [], 'image': 'https://img.spoonacular.com/ingredients_100x100/apple.jpg'}, {'id': 5006, 'amount': 1.0, 'unit': 'serving', 'unitLong': 'serving', 'unitShort': 'serving', 'aisle': 'Meat', 'name': 'whole chicken', 'original': 'chicken', 'originalName': 'chicken', 'meta': [], 'image': 'https://img.spoonacular.com/ingredients_100x100/whole-chicken.jpg'}, {'id': 10011457, 'amount': 1.0, 'unit': 'serving', 'unitLong': 'serving', 'unitShort': 'serving', 'aisle': 'Produce', 'name': 'spinach', 'original': 'spinach', 'originalName': 'spinach', 'meta': [], 'image': 'https://img.spoonacular.com/ingredients_100x100/spinach.jpg'}, {'id': 23572, 'amount': 1.0, 'unit': 'serving', 'unitLong': 'serving', 'unitShort': 'serving', 'aisle': 'Frozen;Meat', 'name': 'ground_beef', 'original': 'ground_beef', 'originalName': 'ground_beef', 'meta': [], 'image': 'https://img.spoonacular.com/ingredients_100x100/beef-cubes-raw.png'}, {'id': 11168, 'amount': 1.0, 'unit': 'serving', 'unitLong': 'serving', 'unitShort': 'serving', 'aisle': 'Produce', 'name': 'corn', 'original': 'corn', 'originalName': 'corn', 'meta': [], 'image': 'https://img.spoonacular.com/ingredients_100x100/corn.png'}, {'id': 10151, 'amount': 1.0, 'unit': 'serving', 'unitLong': 'serving', 'unitShort': 'serving', 'aisle': 'Meat', 'name': 'ham', 'original': 'ham', 'originalName': 'ham', 'meta': [], 'image': 'https://img.spoonacular.com/ingredients_100x100/ham-whole.jpg'}], 'likes': 0}]\n"
     ]
    }
   ],
   "execution_count": 6
  },
  {
   "metadata": {
    "ExecuteTime": {
     "end_time": "2025-08-06T23:48:24.750060Z",
     "start_time": "2025-08-06T23:48:24.744350Z"
    }
   },
   "cell_type": "code",
   "source": [
    "recommended_recipes = []\n",
    "for recipes in data:\n",
    "    print(f\"Recipe ID: {recipes['id']}, Title: {recipes['title']}, Used Ingredients: {len(recipes['usedIngredients'])}, Missed Ingredients: {len(recipes['missedIngredients'])}\")\n",
    "    print(\"Used Ingredients:\", [ingredient['name'] for ingredient in recipes['usedIngredients']])\n",
    "    print(\"Missed Ingredients:\", [ingredient['name'] for ingredient in recipes['missedIngredients']])\n",
    "    print(\"-\" * 40)\n",
    "    recommended_recipes.append({\n",
    "        \"id\": recipes['id'],\n",
    "        \"image\": recipes['image'],\n",
    "        \"title\": recipes['title'],\n",
    "        \"used_ingredients\": [ingredient['name'] for ingredient in recipes['usedIngredients']],\n",
    "        \"missed_ingredients\": [ingredient['name'] for ingredient in recipes['missedIngredients']]\n",
    "    })"
   ],
   "id": "5328b641e1e92019",
   "outputs": [
    {
     "name": "stdout",
     "output_type": "stream",
     "text": [
      "Recipe ID: 769775, Title: Simple Spinach and Tomato Frittata, Used Ingredients: 2, Missed Ingredients: 2\n",
      "Used Ingredients: ['cherry tomatoes', 'spinach leaves']\n",
      "Missed Ingredients: ['personal skillet', 'eggs']\n",
      "----------------------------------------\n",
      "Recipe ID: 663748, Title: Traditional Apple Tart, Used Ingredients: 2, Missed Ingredients: 2\n",
      "Used Ingredients: ['granny smiths', 'butter']\n",
      "Missed Ingredients: ['blackcurrant jam', 'oz short crust pastry - ready made if you want']\n",
      "----------------------------------------\n",
      "Recipe ID: 640089, Title: Corn on the Cob in Cilantro and Lime Butter, Used Ingredients: 2, Missed Ingredients: 2\n",
      "Used Ingredients: ['butter', 'corn on the cob']\n",
      "Missed Ingredients: ['cilantro', 'lime']\n",
      "----------------------------------------\n",
      "Recipe ID: 645733, Title: Grilled Ham and Swiss Sandwich, Used Ingredients: 2, Missed Ingredients: 2\n",
      "Used Ingredients: ['pats of butter', 'ham']\n",
      "Missed Ingredients: ['swiss cheese', 'bread']\n",
      "----------------------------------------\n",
      "Recipe ID: 1674265, Title: Easy Tomato Soup, Used Ingredients: 2, Missed Ingredients: 2\n",
      "Used Ingredients: ['tomatoes', 'butter']\n",
      "Missed Ingredients: ['onion', 'vegetable broth']\n",
      "----------------------------------------\n"
     ]
    }
   ],
   "execution_count": 10
  }
 ],
 "metadata": {
  "kernelspec": {
   "display_name": "Python 3",
   "language": "python",
   "name": "python3"
  },
  "language_info": {
   "codemirror_mode": {
    "name": "ipython",
    "version": 2
   },
   "file_extension": ".py",
   "mimetype": "text/x-python",
   "name": "python",
   "nbconvert_exporter": "python",
   "pygments_lexer": "ipython2",
   "version": "2.7.6"
  }
 },
 "nbformat": 4,
 "nbformat_minor": 5
}
