{
 "cells": [
  {
   "metadata": {},
   "cell_type": "markdown",
   "source": "# AutoChef",
   "id": "7ae4fb54b8ab7ea6"
  },
  {
   "metadata": {},
   "cell_type": "markdown",
   "source": "## Prepare environment and process data",
   "id": "a223744fd8578d03"
  },
  {
   "metadata": {},
   "cell_type": "markdown",
   "source": [
    "Data Source: https://www.kaggle.com/datasets/irkaal/foodcom-recipes-and-reviews?resource=download\n",
    "\n",
    "Data Source v2: https://app.roboflow.com/bens-workspace-3xdyh/fridge-detection-aymme/browse?queryText=&pageSize=50&startingIndex=0&browseQuery=true"
   ],
   "id": "9cab27aba6e3d9f8"
  },
  {
   "metadata": {
    "ExecuteTime": {
     "end_time": "2025-08-10T19:38:12.698985Z",
     "start_time": "2025-08-10T19:38:12.693083Z"
    }
   },
   "cell_type": "code",
   "source": [
    "import os\n",
    "from ultralytics import YOLO\n",
    "import torch\n",
    "import cv2\n",
    "import requests\n",
    "from dotenv import load_dotenv\n",
    "import numpy as np\n",
    "\n",
    "load_dotenv()"
   ],
   "id": "a42200c6c729d180",
   "outputs": [
    {
     "data": {
      "text/plain": [
       "True"
      ]
     },
     "execution_count": 3,
     "metadata": {},
     "output_type": "execute_result"
    }
   ],
   "execution_count": 3
  },
  {
   "metadata": {},
   "cell_type": "markdown",
   "source": "## Take 2 - use YOLO for a simplified approach",
   "id": "a014be852acc2435"
  },
  {
   "metadata": {
    "ExecuteTime": {
     "end_time": "2025-08-05T00:32:44.399613Z",
     "start_time": "2025-08-05T00:32:44.260770Z"
    }
   },
   "cell_type": "code",
   "source": [
    "\n",
    "print(\"CUDA Available:\", torch.cuda.is_available())\n",
    "print(\"Device Name:\", torch.cuda.get_device_name(0) if torch.cuda.is_available() else \"No GPU\")\n",
    "\n",
    "print(torch.__version__)\n",
    "print(torch.version.cuda)\n"
   ],
   "id": "1a9d09664c981b4e",
   "outputs": [
    {
     "name": "stdout",
     "output_type": "stream",
     "text": [
      "CUDA Available: True\n",
      "Device Name: NVIDIA GeForce GTX 1660\n",
      "2.3.1+cu118\n",
      "11.8\n",
      "Torch: 2.3.1+cu118\n",
      "Torchvision: 0.18.1+cu118\n",
      "CUDA available: True\n",
      "tensor([0], device='cuda:0')\n"
     ]
    }
   ],
   "execution_count": 11
  },
  {
   "metadata": {},
   "cell_type": "markdown",
   "source": "### Core functionality",
   "id": "11bbadd980cecf6e"
  },
  {
   "metadata": {
    "ExecuteTime": {
     "end_time": "2025-08-10T19:38:17.293876Z",
     "start_time": "2025-08-10T19:38:16.836765Z"
    }
   },
   "cell_type": "code",
   "source": [
    "# Load your trained model\n",
    "model = YOLO('best_v2.pt')\n",
    "\n",
    "# Load an image\n",
    "img = cv2.imread('fridge_test_2.jpg')\n",
    "\n",
    "# Run inference\n",
    "results = model(img)\n",
    "\n",
    "# Print detected objects\n",
    "for result in results:\n",
    "    boxes = result.boxes\n",
    "    for box in boxes:\n",
    "        class_idx = int(box.cls)\n",
    "        class_name = model.names[class_idx]\n",
    "        confidence = float(box.conf)\n",
    "        print(f\"Class: {class_name}, Confidence: {confidence:.2f}, Box: {box.xyxy}\")\n",
    "\n",
    "confidence_threshold = 0.7\n",
    "\n",
    "for result in results:\n",
    "    # Filter boxes by confidence\n",
    "    high_conf_boxes = [box for box in result.boxes if float(box.conf) > confidence_threshold]\n",
    "    if high_conf_boxes:\n",
    "        # Optionally, update result.boxes to only include high confidence boxes\n",
    "        result.boxes = high_conf_boxes\n",
    "        result.show()"
   ],
   "id": "6c2ba69f09ed27cd",
   "outputs": [
    {
     "name": "stdout",
     "output_type": "stream",
     "text": [
      "\n"
     ]
    },
    {
     "ename": "RuntimeError",
     "evalue": "Numpy is not available",
     "output_type": "error",
     "traceback": [
      "\u001B[31m---------------------------------------------------------------------------\u001B[39m",
      "\u001B[31mRuntimeError\u001B[39m                              Traceback (most recent call last)",
      "\u001B[36mCell\u001B[39m\u001B[36m \u001B[39m\u001B[32mIn[4]\u001B[39m\u001B[32m, line 8\u001B[39m\n\u001B[32m      5\u001B[39m img = cv2.imread(\u001B[33m'\u001B[39m\u001B[33mfridge_test_2.jpg\u001B[39m\u001B[33m'\u001B[39m)\n\u001B[32m      7\u001B[39m \u001B[38;5;66;03m# Run inference\u001B[39;00m\n\u001B[32m----> \u001B[39m\u001B[32m8\u001B[39m results = \u001B[43mmodel\u001B[49m\u001B[43m(\u001B[49m\u001B[43mimg\u001B[49m\u001B[43m)\u001B[49m\n\u001B[32m     10\u001B[39m \u001B[38;5;66;03m# Print detected objects\u001B[39;00m\n\u001B[32m     11\u001B[39m \u001B[38;5;28;01mfor\u001B[39;00m result \u001B[38;5;129;01min\u001B[39;00m results:\n",
      "\u001B[36mFile \u001B[39m\u001B[32m~\\Documents\\GitHub\\AutoDJ\\.venv\\Lib\\site-packages\\ultralytics\\engine\\model.py:185\u001B[39m, in \u001B[36mModel.__call__\u001B[39m\u001B[34m(self, source, stream, **kwargs)\u001B[39m\n\u001B[32m    156\u001B[39m \u001B[38;5;28;01mdef\u001B[39;00m\u001B[38;5;250m \u001B[39m\u001B[34m__call__\u001B[39m(\n\u001B[32m    157\u001B[39m     \u001B[38;5;28mself\u001B[39m,\n\u001B[32m    158\u001B[39m     source: Union[\u001B[38;5;28mstr\u001B[39m, Path, \u001B[38;5;28mint\u001B[39m, Image.Image, \u001B[38;5;28mlist\u001B[39m, \u001B[38;5;28mtuple\u001B[39m, np.ndarray, torch.Tensor] = \u001B[38;5;28;01mNone\u001B[39;00m,\n\u001B[32m    159\u001B[39m     stream: \u001B[38;5;28mbool\u001B[39m = \u001B[38;5;28;01mFalse\u001B[39;00m,\n\u001B[32m    160\u001B[39m     **kwargs: Any,\n\u001B[32m    161\u001B[39m ) -> \u001B[38;5;28mlist\u001B[39m:\n\u001B[32m    162\u001B[39m \u001B[38;5;250m    \u001B[39m\u001B[33;03m\"\"\"\u001B[39;00m\n\u001B[32m    163\u001B[39m \u001B[33;03m    Alias for the predict method, enabling the model instance to be callable for predictions.\u001B[39;00m\n\u001B[32m    164\u001B[39m \n\u001B[32m   (...)\u001B[39m\u001B[32m    183\u001B[39m \u001B[33;03m        ...     print(f\"Detected {len(r)} objects in image\")\u001B[39;00m\n\u001B[32m    184\u001B[39m \u001B[33;03m    \"\"\"\u001B[39;00m\n\u001B[32m--> \u001B[39m\u001B[32m185\u001B[39m     \u001B[38;5;28;01mreturn\u001B[39;00m \u001B[38;5;28;43mself\u001B[39;49m\u001B[43m.\u001B[49m\u001B[43mpredict\u001B[49m\u001B[43m(\u001B[49m\u001B[43msource\u001B[49m\u001B[43m,\u001B[49m\u001B[43m \u001B[49m\u001B[43mstream\u001B[49m\u001B[43m,\u001B[49m\u001B[43m \u001B[49m\u001B[43m*\u001B[49m\u001B[43m*\u001B[49m\u001B[43mkwargs\u001B[49m\u001B[43m)\u001B[49m\n",
      "\u001B[36mFile \u001B[39m\u001B[32m~\\Documents\\GitHub\\AutoDJ\\.venv\\Lib\\site-packages\\ultralytics\\engine\\model.py:555\u001B[39m, in \u001B[36mModel.predict\u001B[39m\u001B[34m(self, source, stream, predictor, **kwargs)\u001B[39m\n\u001B[32m    553\u001B[39m \u001B[38;5;28;01mif\u001B[39;00m prompts \u001B[38;5;129;01mand\u001B[39;00m \u001B[38;5;28mhasattr\u001B[39m(\u001B[38;5;28mself\u001B[39m.predictor, \u001B[33m\"\u001B[39m\u001B[33mset_prompts\u001B[39m\u001B[33m\"\u001B[39m):  \u001B[38;5;66;03m# for SAM-type models\u001B[39;00m\n\u001B[32m    554\u001B[39m     \u001B[38;5;28mself\u001B[39m.predictor.set_prompts(prompts)\n\u001B[32m--> \u001B[39m\u001B[32m555\u001B[39m \u001B[38;5;28;01mreturn\u001B[39;00m \u001B[38;5;28mself\u001B[39m.predictor.predict_cli(source=source) \u001B[38;5;28;01mif\u001B[39;00m is_cli \u001B[38;5;28;01melse\u001B[39;00m \u001B[38;5;28;43mself\u001B[39;49m\u001B[43m.\u001B[49m\u001B[43mpredictor\u001B[49m\u001B[43m(\u001B[49m\u001B[43msource\u001B[49m\u001B[43m=\u001B[49m\u001B[43msource\u001B[49m\u001B[43m,\u001B[49m\u001B[43m \u001B[49m\u001B[43mstream\u001B[49m\u001B[43m=\u001B[49m\u001B[43mstream\u001B[49m\u001B[43m)\u001B[49m\n",
      "\u001B[36mFile \u001B[39m\u001B[32m~\\Documents\\GitHub\\AutoDJ\\.venv\\Lib\\site-packages\\ultralytics\\engine\\predictor.py:227\u001B[39m, in \u001B[36mBasePredictor.__call__\u001B[39m\u001B[34m(self, source, model, stream, *args, **kwargs)\u001B[39m\n\u001B[32m    225\u001B[39m     \u001B[38;5;28;01mreturn\u001B[39;00m \u001B[38;5;28mself\u001B[39m.stream_inference(source, model, *args, **kwargs)\n\u001B[32m    226\u001B[39m \u001B[38;5;28;01melse\u001B[39;00m:\n\u001B[32m--> \u001B[39m\u001B[32m227\u001B[39m     \u001B[38;5;28;01mreturn\u001B[39;00m \u001B[38;5;28;43mlist\u001B[39;49m\u001B[43m(\u001B[49m\u001B[38;5;28;43mself\u001B[39;49m\u001B[43m.\u001B[49m\u001B[43mstream_inference\u001B[49m\u001B[43m(\u001B[49m\u001B[43msource\u001B[49m\u001B[43m,\u001B[49m\u001B[43m \u001B[49m\u001B[43mmodel\u001B[49m\u001B[43m,\u001B[49m\u001B[43m \u001B[49m\u001B[43m*\u001B[49m\u001B[43margs\u001B[49m\u001B[43m,\u001B[49m\u001B[43m \u001B[49m\u001B[43m*\u001B[49m\u001B[43m*\u001B[49m\u001B[43mkwargs\u001B[49m\u001B[43m)\u001B[49m\u001B[43m)\u001B[49m\n",
      "\u001B[36mFile \u001B[39m\u001B[32m~\\Documents\\GitHub\\AutoDJ\\.venv\\Lib\\site-packages\\torch\\utils\\_contextlib.py:35\u001B[39m, in \u001B[36m_wrap_generator.<locals>.generator_context\u001B[39m\u001B[34m(*args, **kwargs)\u001B[39m\n\u001B[32m     32\u001B[39m \u001B[38;5;28;01mtry\u001B[39;00m:\n\u001B[32m     33\u001B[39m     \u001B[38;5;66;03m# Issuing `None` to a generator fires it up\u001B[39;00m\n\u001B[32m     34\u001B[39m     \u001B[38;5;28;01mwith\u001B[39;00m ctx_factory():\n\u001B[32m---> \u001B[39m\u001B[32m35\u001B[39m         response = \u001B[43mgen\u001B[49m\u001B[43m.\u001B[49m\u001B[43msend\u001B[49m\u001B[43m(\u001B[49m\u001B[38;5;28;43;01mNone\u001B[39;49;00m\u001B[43m)\u001B[49m\n\u001B[32m     37\u001B[39m     \u001B[38;5;28;01mwhile\u001B[39;00m \u001B[38;5;28;01mTrue\u001B[39;00m:\n\u001B[32m     38\u001B[39m         \u001B[38;5;28;01mtry\u001B[39;00m:\n\u001B[32m     39\u001B[39m             \u001B[38;5;66;03m# Forward the response to our caller and get its next request\u001B[39;00m\n",
      "\u001B[36mFile \u001B[39m\u001B[32m~\\Documents\\GitHub\\AutoDJ\\.venv\\Lib\\site-packages\\ultralytics\\engine\\predictor.py:326\u001B[39m, in \u001B[36mBasePredictor.stream_inference\u001B[39m\u001B[34m(self, source, model, *args, **kwargs)\u001B[39m\n\u001B[32m    324\u001B[39m \u001B[38;5;66;03m# Preprocess\u001B[39;00m\n\u001B[32m    325\u001B[39m \u001B[38;5;28;01mwith\u001B[39;00m profilers[\u001B[32m0\u001B[39m]:\n\u001B[32m--> \u001B[39m\u001B[32m326\u001B[39m     im = \u001B[38;5;28;43mself\u001B[39;49m\u001B[43m.\u001B[49m\u001B[43mpreprocess\u001B[49m\u001B[43m(\u001B[49m\u001B[43mim0s\u001B[49m\u001B[43m)\u001B[49m\n\u001B[32m    328\u001B[39m \u001B[38;5;66;03m# Inference\u001B[39;00m\n\u001B[32m    329\u001B[39m \u001B[38;5;28;01mwith\u001B[39;00m profilers[\u001B[32m1\u001B[39m]:\n",
      "\u001B[36mFile \u001B[39m\u001B[32m~\\Documents\\GitHub\\AutoDJ\\.venv\\Lib\\site-packages\\ultralytics\\engine\\predictor.py:167\u001B[39m, in \u001B[36mBasePredictor.preprocess\u001B[39m\u001B[34m(self, im)\u001B[39m\n\u001B[32m    165\u001B[39m     im = im.transpose((\u001B[32m0\u001B[39m, \u001B[32m3\u001B[39m, \u001B[32m1\u001B[39m, \u001B[32m2\u001B[39m))  \u001B[38;5;66;03m# BHWC to BCHW, (n, 3, h, w)\u001B[39;00m\n\u001B[32m    166\u001B[39m     im = np.ascontiguousarray(im)  \u001B[38;5;66;03m# contiguous\u001B[39;00m\n\u001B[32m--> \u001B[39m\u001B[32m167\u001B[39m     im = \u001B[43mtorch\u001B[49m\u001B[43m.\u001B[49m\u001B[43mfrom_numpy\u001B[49m\u001B[43m(\u001B[49m\u001B[43mim\u001B[49m\u001B[43m)\u001B[49m\n\u001B[32m    169\u001B[39m im = im.to(\u001B[38;5;28mself\u001B[39m.device)\n\u001B[32m    170\u001B[39m im = im.half() \u001B[38;5;28;01mif\u001B[39;00m \u001B[38;5;28mself\u001B[39m.model.fp16 \u001B[38;5;28;01melse\u001B[39;00m im.float()  \u001B[38;5;66;03m# uint8 to fp16/32\u001B[39;00m\n",
      "\u001B[31mRuntimeError\u001B[39m: Numpy is not available"
     ]
    }
   ],
   "execution_count": 4
  },
  {
   "metadata": {
    "ExecuteTime": {
     "end_time": "2025-08-06T23:42:23.608239Z",
     "start_time": "2025-08-06T23:42:23.600582Z"
    }
   },
   "cell_type": "code",
   "source": [
    "# Get a list of detected classes\n",
    "detected_classes = [model.names[int(box.cls)] for box in results[0].boxes if float(box.conf) > confidence_threshold]\n",
    "print(\"Detected classes:\", detected_classes)"
   ],
   "id": "dbf74e65132a4fb4",
   "outputs": [
    {
     "name": "stdout",
     "output_type": "stream",
     "text": [
      "Detected classes: ['tomato', 'apple', 'chicken', 'spinach', 'sugar', 'ground_beef', 'corn', 'green_beans', 'butter', 'sugar', 'ham']\n"
     ]
    }
   ],
   "execution_count": 4
  },
  {
   "metadata": {
    "ExecuteTime": {
     "end_time": "2025-08-07T00:11:07.870564Z",
     "start_time": "2025-08-07T00:11:06.415073Z"
    }
   },
   "cell_type": "code",
   "source": [
    "# Get recipes that can be made with the detected ingredients\n",
    "url = \"https://api.spoonacular.com/recipes/findByIngredients\"\n",
    "\n",
    "params = {\n",
    "    \"ingredients\": \",\".join(detected_classes),\n",
    "    \"ignorePantry\": True,\n",
    "    \"ranking\": 2,\n",
    "    \"number\": 5,\n",
    "    'apiKey': os.getenv(\"SPOONACULAR_API_KEY\")\n",
    "}\n",
    "\n",
    "#print(\"Requesting URL with params:\", params)\n",
    "response = requests.get(url, params=params)\n",
    "\n",
    "response = requests.get(\n",
    "    url,\n",
    "    params=params\n",
    ")\n",
    "\n",
    "print(response.json())\n",
    "data = response.json()"
   ],
   "id": "c6ffec7b87eafa5",
   "outputs": [
    {
     "name": "stdout",
     "output_type": "stream",
     "text": [
      "[{'id': 769775, 'title': 'Simple Spinach and Tomato Frittata', 'image': 'https://img.spoonacular.com/recipes/769775-312x231.jpg', 'imageType': 'jpg', 'usedIngredientCount': 2, 'missedIngredientCount': 2, 'missedIngredients': [{'id': 99037, 'amount': 1.0, 'unit': 'small', 'unitLong': 'small', 'unitShort': 'small', 'aisle': 'Pasta and Rice', 'name': 'personal skillet', 'original': 'small personal skillet', 'originalName': 'personal skillet', 'meta': [], 'image': 'https://img.spoonacular.com/ingredients_100x100/no.jpg'}, {'id': 1123, 'amount': 2.0, 'unit': '', 'unitLong': '', 'unitShort': '', 'aisle': 'Milk, Eggs, Other Dairy', 'name': 'eggs', 'original': '2-3 lightly beaten eggs', 'originalName': 'lightly beaten eggs', 'meta': ['lightly beaten'], 'image': 'https://img.spoonacular.com/ingredients_100x100/egg.png'}], 'usedIngredients': [{'id': 10311529, 'amount': 1.0, 'unit': 'serving', 'unitLong': 'serving', 'unitShort': 'serving', 'aisle': 'Produce', 'name': 'cherry tomatoes', 'original': 'cherry tomatoes, halved', 'originalName': 'cherry tomatoes, halved', 'meta': ['halved'], 'image': 'https://img.spoonacular.com/ingredients_100x100/cherry-tomatoes.png'}, {'id': 10011457, 'amount': 1.0, 'unit': 'serving', 'unitLong': 'serving', 'unitShort': 'serving', 'aisle': 'Produce', 'name': 'spinach leaves', 'original': 'spinach leaves', 'originalName': 'spinach leaves', 'meta': [], 'image': 'https://img.spoonacular.com/ingredients_100x100/spinach.jpg'}], 'unusedIngredients': [{'id': 9003, 'amount': 1.0, 'unit': 'serving', 'unitLong': 'serving', 'unitShort': 'serving', 'aisle': 'Produce', 'name': 'apple', 'original': 'apple', 'originalName': 'apple', 'meta': [], 'image': 'https://img.spoonacular.com/ingredients_100x100/apple.jpg'}, {'id': 5006, 'amount': 1.0, 'unit': 'serving', 'unitLong': 'serving', 'unitShort': 'serving', 'aisle': 'Meat', 'name': 'whole chicken', 'original': 'chicken', 'originalName': 'chicken', 'meta': [], 'image': 'https://img.spoonacular.com/ingredients_100x100/whole-chicken.jpg'}, {'id': 23572, 'amount': 1.0, 'unit': 'serving', 'unitLong': 'serving', 'unitShort': 'serving', 'aisle': 'Frozen;Meat', 'name': 'ground_beef', 'original': 'ground_beef', 'originalName': 'ground_beef', 'meta': [], 'image': 'https://img.spoonacular.com/ingredients_100x100/beef-cubes-raw.png'}, {'id': 11168, 'amount': 1.0, 'unit': 'serving', 'unitLong': 'serving', 'unitShort': 'serving', 'aisle': 'Produce', 'name': 'corn', 'original': 'corn', 'originalName': 'corn', 'meta': [], 'image': 'https://img.spoonacular.com/ingredients_100x100/corn.png'}, {'id': 1001, 'amount': 1.0, 'unit': 'serving', 'unitLong': 'serving', 'unitShort': 'serving', 'aisle': 'Milk, Eggs, Other Dairy', 'name': 'butter', 'original': 'butter', 'originalName': 'butter', 'meta': [], 'image': 'https://img.spoonacular.com/ingredients_100x100/butter-sliced.jpg'}, {'id': 10151, 'amount': 1.0, 'unit': 'serving', 'unitLong': 'serving', 'unitShort': 'serving', 'aisle': 'Meat', 'name': 'ham', 'original': 'ham', 'originalName': 'ham', 'meta': [], 'image': 'https://img.spoonacular.com/ingredients_100x100/ham-whole.jpg'}], 'likes': 7}, {'id': 663748, 'title': 'Traditional Apple Tart', 'image': 'https://img.spoonacular.com/recipes/663748-312x231.jpg', 'imageType': 'jpg', 'usedIngredientCount': 2, 'missedIngredientCount': 2, 'missedIngredients': [{'id': 9083, 'amount': 4.0, 'unit': 'tablespoons', 'unitLong': 'tablespoons', 'unitShort': 'Tbsp', 'aisle': 'Produce', 'name': 'blackcurrant jam', 'original': '4 tablespoons blackcurrant jam', 'originalName': 'blackcurrant jam', 'meta': [], 'image': 'https://img.spoonacular.com/ingredients_100x100/black-currants.png'}, {'id': 10018338, 'amount': 500.0, 'unit': 'grams', 'unitLong': 'grams', 'unitShort': 'g', 'aisle': 'Frozen', 'name': 'oz short crust pastry - ready made if you want', 'original': '500 grams 1lb 2oz short crust pastry – ready made if you want', 'originalName': '1lb 2oz short crust pastry – ready made if you want', 'meta': [], 'image': 'https://img.spoonacular.com/ingredients_100x100/dough.jpg'}], 'usedIngredients': [{'id': 1089003, 'amount': 1.5, 'unit': 'pounds', 'unitLong': 'pounds', 'unitShort': 'lb', 'aisle': 'Produce', 'name': 'granny smiths', 'original': '1 1/2 pounds 3 cooking apples such as Bramley or Granny Smiths', 'originalName': '3 cooking apples such as Bramley or Granny Smiths', 'meta': [], 'image': 'https://img.spoonacular.com/ingredients_100x100/grannysmith-apple.png'}, {'id': 1145, 'amount': 80.0, 'unit': 'grams', 'unitLong': 'grams', 'unitShort': 'g', 'aisle': 'Milk, Eggs, Other Dairy', 'name': 'butter', 'original': '80 grams 3oz unsalted butter', 'originalName': '3oz unsalted butter', 'meta': ['unsalted'], 'extendedName': 'unsalted butter', 'image': 'https://img.spoonacular.com/ingredients_100x100/butter-sliced.jpg'}], 'unusedIngredients': [{'id': 11529, 'amount': 1.0, 'unit': 'serving', 'unitLong': 'serving', 'unitShort': 'serving', 'aisle': 'Produce', 'name': 'tomato', 'original': 'tomato', 'originalName': 'tomato', 'meta': [], 'image': 'https://img.spoonacular.com/ingredients_100x100/tomato.png'}, {'id': 5006, 'amount': 1.0, 'unit': 'serving', 'unitLong': 'serving', 'unitShort': 'serving', 'aisle': 'Meat', 'name': 'whole chicken', 'original': 'chicken', 'originalName': 'chicken', 'meta': [], 'image': 'https://img.spoonacular.com/ingredients_100x100/whole-chicken.jpg'}, {'id': 10011457, 'amount': 1.0, 'unit': 'serving', 'unitLong': 'serving', 'unitShort': 'serving', 'aisle': 'Produce', 'name': 'spinach', 'original': 'spinach', 'originalName': 'spinach', 'meta': [], 'image': 'https://img.spoonacular.com/ingredients_100x100/spinach.jpg'}, {'id': 23572, 'amount': 1.0, 'unit': 'serving', 'unitLong': 'serving', 'unitShort': 'serving', 'aisle': 'Frozen;Meat', 'name': 'ground_beef', 'original': 'ground_beef', 'originalName': 'ground_beef', 'meta': [], 'image': 'https://img.spoonacular.com/ingredients_100x100/beef-cubes-raw.png'}, {'id': 11168, 'amount': 1.0, 'unit': 'serving', 'unitLong': 'serving', 'unitShort': 'serving', 'aisle': 'Produce', 'name': 'corn', 'original': 'corn', 'originalName': 'corn', 'meta': [], 'image': 'https://img.spoonacular.com/ingredients_100x100/corn.png'}, {'id': 10151, 'amount': 1.0, 'unit': 'serving', 'unitLong': 'serving', 'unitShort': 'serving', 'aisle': 'Meat', 'name': 'ham', 'original': 'ham', 'originalName': 'ham', 'meta': [], 'image': 'https://img.spoonacular.com/ingredients_100x100/ham-whole.jpg'}], 'likes': 1}, {'id': 640089, 'title': 'Corn on the Cob in Cilantro and Lime Butter', 'image': 'https://img.spoonacular.com/recipes/640089-312x231.jpg', 'imageType': 'jpg', 'usedIngredientCount': 2, 'missedIngredientCount': 2, 'missedIngredients': [{'id': 11165, 'amount': 1.0, 'unit': 'handful', 'unitLong': 'handful', 'unitShort': 'handful', 'aisle': 'Produce', 'name': 'cilantro', 'original': '1 handful of Cilantro', 'originalName': 'Cilantro', 'meta': [], 'image': 'https://img.spoonacular.com/ingredients_100x100/cilantro.png'}, {'id': 9159, 'amount': 1.0, 'unit': 'tablespoon', 'unitLong': 'tablespoon', 'unitShort': 'Tbsp', 'aisle': 'Produce', 'name': 'lime', 'original': '1 tablespoon of lime', 'originalName': 'lime', 'meta': [], 'image': 'https://img.spoonacular.com/ingredients_100x100/lime.jpg'}], 'usedIngredients': [{'id': 1001, 'amount': 1.0, 'unit': 'stick', 'unitLong': 'stick', 'unitShort': 'stick', 'aisle': 'Milk, Eggs, Other Dairy', 'name': 'butter', 'original': '1 stick of melted butter', 'originalName': 'melted butter', 'meta': ['melted'], 'image': 'https://img.spoonacular.com/ingredients_100x100/butter-sliced.jpg'}, {'id': 11167, 'amount': 3.0, 'unit': '', 'unitLong': '', 'unitShort': '', 'aisle': 'Produce', 'name': 'corn on the cob', 'original': '3 Corn on the cob', 'originalName': 'Corn on the cob', 'meta': [], 'image': 'https://img.spoonacular.com/ingredients_100x100/corn-on-the-cob.jpg'}], 'unusedIngredients': [{'id': 11529, 'amount': 1.0, 'unit': 'serving', 'unitLong': 'serving', 'unitShort': 'serving', 'aisle': 'Produce', 'name': 'tomato', 'original': 'tomato', 'originalName': 'tomato', 'meta': [], 'image': 'https://img.spoonacular.com/ingredients_100x100/tomato.png'}, {'id': 9003, 'amount': 1.0, 'unit': 'serving', 'unitLong': 'serving', 'unitShort': 'serving', 'aisle': 'Produce', 'name': 'apple', 'original': 'apple', 'originalName': 'apple', 'meta': [], 'image': 'https://img.spoonacular.com/ingredients_100x100/apple.jpg'}, {'id': 5006, 'amount': 1.0, 'unit': 'serving', 'unitLong': 'serving', 'unitShort': 'serving', 'aisle': 'Meat', 'name': 'whole chicken', 'original': 'chicken', 'originalName': 'chicken', 'meta': [], 'image': 'https://img.spoonacular.com/ingredients_100x100/whole-chicken.jpg'}, {'id': 10011457, 'amount': 1.0, 'unit': 'serving', 'unitLong': 'serving', 'unitShort': 'serving', 'aisle': 'Produce', 'name': 'spinach', 'original': 'spinach', 'originalName': 'spinach', 'meta': [], 'image': 'https://img.spoonacular.com/ingredients_100x100/spinach.jpg'}, {'id': 23572, 'amount': 1.0, 'unit': 'serving', 'unitLong': 'serving', 'unitShort': 'serving', 'aisle': 'Frozen;Meat', 'name': 'ground_beef', 'original': 'ground_beef', 'originalName': 'ground_beef', 'meta': [], 'image': 'https://img.spoonacular.com/ingredients_100x100/beef-cubes-raw.png'}, {'id': 10151, 'amount': 1.0, 'unit': 'serving', 'unitLong': 'serving', 'unitShort': 'serving', 'aisle': 'Meat', 'name': 'ham', 'original': 'ham', 'originalName': 'ham', 'meta': [], 'image': 'https://img.spoonacular.com/ingredients_100x100/ham-whole.jpg'}], 'likes': 1}, {'id': 645733, 'title': 'Grilled Ham and Swiss Sandwich', 'image': 'https://img.spoonacular.com/recipes/645733-312x231.jpg', 'imageType': 'jpg', 'usedIngredientCount': 2, 'missedIngredientCount': 2, 'missedIngredients': [{'id': 1040, 'amount': 2.0, 'unit': 'Slices', 'unitLong': 'Slices', 'unitShort': 'slice', 'aisle': 'Cheese', 'name': 'swiss cheese', 'original': '2 Slices Swiss Cheese', 'originalName': 'Swiss Cheese', 'meta': [], 'image': 'https://img.spoonacular.com/ingredients_100x100/Swiss-cheese.jpg'}, {'id': 18069, 'amount': 2.0, 'unit': 'Slices', 'unitLong': 'Slices', 'unitShort': 'slice', 'aisle': 'Bakery/Bread', 'name': 'bread', 'original': '2 Slices White Bread', 'originalName': 'White Bread', 'meta': ['white'], 'extendedName': 'white bread', 'image': 'https://img.spoonacular.com/ingredients_100x100/white-bread.jpg'}], 'usedIngredients': [{'id': 1001, 'amount': 2.0, 'unit': '', 'unitLong': '', 'unitShort': '', 'aisle': 'Milk, Eggs, Other Dairy', 'name': 'pats of butter', 'original': '2 pats of butter', 'originalName': 'pats of butter', 'meta': [], 'image': 'https://img.spoonacular.com/ingredients_100x100/butter-sliced.jpg'}, {'id': 10010151, 'amount': 3.0, 'unit': 'Pieces', 'unitLong': '', 'unitShort': '', 'aisle': 'Meat', 'name': 'ham', 'original': '3 Pieces Thin Sliced Ham', 'originalName': 'Thin Sliced Ham', 'meta': ['sliced', 'thin'], 'image': 'https://img.spoonacular.com/ingredients_100x100/ham.png'}], 'unusedIngredients': [{'id': 11529, 'amount': 1.0, 'unit': 'serving', 'unitLong': 'serving', 'unitShort': 'serving', 'aisle': 'Produce', 'name': 'tomato', 'original': 'tomato', 'originalName': 'tomato', 'meta': [], 'image': 'https://img.spoonacular.com/ingredients_100x100/tomato.png'}, {'id': 9003, 'amount': 1.0, 'unit': 'serving', 'unitLong': 'serving', 'unitShort': 'serving', 'aisle': 'Produce', 'name': 'apple', 'original': 'apple', 'originalName': 'apple', 'meta': [], 'image': 'https://img.spoonacular.com/ingredients_100x100/apple.jpg'}, {'id': 5006, 'amount': 1.0, 'unit': 'serving', 'unitLong': 'serving', 'unitShort': 'serving', 'aisle': 'Meat', 'name': 'whole chicken', 'original': 'chicken', 'originalName': 'chicken', 'meta': [], 'image': 'https://img.spoonacular.com/ingredients_100x100/whole-chicken.jpg'}, {'id': 10011457, 'amount': 1.0, 'unit': 'serving', 'unitLong': 'serving', 'unitShort': 'serving', 'aisle': 'Produce', 'name': 'spinach', 'original': 'spinach', 'originalName': 'spinach', 'meta': [], 'image': 'https://img.spoonacular.com/ingredients_100x100/spinach.jpg'}, {'id': 23572, 'amount': 1.0, 'unit': 'serving', 'unitLong': 'serving', 'unitShort': 'serving', 'aisle': 'Frozen;Meat', 'name': 'ground_beef', 'original': 'ground_beef', 'originalName': 'ground_beef', 'meta': [], 'image': 'https://img.spoonacular.com/ingredients_100x100/beef-cubes-raw.png'}, {'id': 11168, 'amount': 1.0, 'unit': 'serving', 'unitLong': 'serving', 'unitShort': 'serving', 'aisle': 'Produce', 'name': 'corn', 'original': 'corn', 'originalName': 'corn', 'meta': [], 'image': 'https://img.spoonacular.com/ingredients_100x100/corn.png'}], 'likes': 1}, {'id': 1674265, 'title': 'Easy Tomato Soup', 'image': 'https://img.spoonacular.com/recipes/1674265-312x231.jpg', 'imageType': 'jpg', 'usedIngredientCount': 2, 'missedIngredientCount': 2, 'missedIngredients': [{'id': 11282, 'amount': 1.0, 'unit': '', 'unitLong': '', 'unitShort': '', 'aisle': 'Produce', 'name': 'onion', 'original': '1 onion', 'originalName': 'onion', 'meta': [], 'image': 'https://img.spoonacular.com/ingredients_100x100/brown-onion.png'}, {'id': 6615, 'amount': 1.5, 'unit': 'cups', 'unitLong': 'cups', 'unitShort': 'cup', 'aisle': 'Canned and Jarred', 'name': 'vegetable broth', 'original': '1.5 cups vegetable broth', 'originalName': 'vegetable broth', 'meta': [], 'image': 'https://img.spoonacular.com/ingredients_100x100/chicken-broth.png'}], 'usedIngredients': [{'id': 10011531, 'amount': 28.0, 'unit': 'ounces', 'unitLong': 'ounces', 'unitShort': 'oz', 'aisle': 'Canned and Jarred', 'name': 'tomatoes', 'original': '28 ounces canned whole tomatoes', 'originalName': 'canned whole tomatoes', 'meta': ['whole', 'canned'], 'extendedName': 'canned whole tomatoes', 'image': 'https://img.spoonacular.com/ingredients_100x100/tomatoes-canned.png'}, {'id': 1001, 'amount': 4.0, 'unit': 'tablespoons', 'unitLong': 'tablespoons', 'unitShort': 'Tbsp', 'aisle': 'Milk, Eggs, Other Dairy', 'name': 'butter', 'original': '4 tablespoons butter', 'originalName': 'butter', 'meta': [], 'image': 'https://img.spoonacular.com/ingredients_100x100/butter-sliced.jpg'}], 'unusedIngredients': [{'id': 9003, 'amount': 1.0, 'unit': 'serving', 'unitLong': 'serving', 'unitShort': 'serving', 'aisle': 'Produce', 'name': 'apple', 'original': 'apple', 'originalName': 'apple', 'meta': [], 'image': 'https://img.spoonacular.com/ingredients_100x100/apple.jpg'}, {'id': 5006, 'amount': 1.0, 'unit': 'serving', 'unitLong': 'serving', 'unitShort': 'serving', 'aisle': 'Meat', 'name': 'whole chicken', 'original': 'chicken', 'originalName': 'chicken', 'meta': [], 'image': 'https://img.spoonacular.com/ingredients_100x100/whole-chicken.jpg'}, {'id': 10011457, 'amount': 1.0, 'unit': 'serving', 'unitLong': 'serving', 'unitShort': 'serving', 'aisle': 'Produce', 'name': 'spinach', 'original': 'spinach', 'originalName': 'spinach', 'meta': [], 'image': 'https://img.spoonacular.com/ingredients_100x100/spinach.jpg'}, {'id': 23572, 'amount': 1.0, 'unit': 'serving', 'unitLong': 'serving', 'unitShort': 'serving', 'aisle': 'Frozen;Meat', 'name': 'ground_beef', 'original': 'ground_beef', 'originalName': 'ground_beef', 'meta': [], 'image': 'https://img.spoonacular.com/ingredients_100x100/beef-cubes-raw.png'}, {'id': 11168, 'amount': 1.0, 'unit': 'serving', 'unitLong': 'serving', 'unitShort': 'serving', 'aisle': 'Produce', 'name': 'corn', 'original': 'corn', 'originalName': 'corn', 'meta': [], 'image': 'https://img.spoonacular.com/ingredients_100x100/corn.png'}, {'id': 10151, 'amount': 1.0, 'unit': 'serving', 'unitLong': 'serving', 'unitShort': 'serving', 'aisle': 'Meat', 'name': 'ham', 'original': 'ham', 'originalName': 'ham', 'meta': [], 'image': 'https://img.spoonacular.com/ingredients_100x100/ham-whole.jpg'}], 'likes': 0}]\n"
     ]
    }
   ],
   "execution_count": 15
  },
  {
   "metadata": {
    "ExecuteTime": {
     "end_time": "2025-08-06T23:48:24.750060Z",
     "start_time": "2025-08-06T23:48:24.744350Z"
    }
   },
   "cell_type": "code",
   "source": [
    "recommended_recipes = []\n",
    "for recipes in data:\n",
    "    print(f\"Recipe ID: {recipes['id']}, Title: {recipes['title']}, Used Ingredients: {len(recipes['usedIngredients'])}, Missed Ingredients: {len(recipes['missedIngredients'])}\")\n",
    "    print(\"Used Ingredients:\", [ingredient['name'] for ingredient in recipes['usedIngredients']])\n",
    "    print(\"Missed Ingredients:\", [ingredient['name'] for ingredient in recipes['missedIngredients']])\n",
    "    print(\"-\" * 40)\n",
    "    recommended_recipes.append({\n",
    "        \"id\": recipes['id'],\n",
    "        \"image\": recipes['image'],\n",
    "        \"title\": recipes['title'],\n",
    "        \"used_ingredients\": [ingredient['name'] for ingredient in recipes['usedIngredients']],\n",
    "        \"missed_ingredients\": [ingredient['name'] for ingredient in recipes['missedIngredients']]\n",
    "    })"
   ],
   "id": "5328b641e1e92019",
   "outputs": [
    {
     "name": "stdout",
     "output_type": "stream",
     "text": [
      "Recipe ID: 769775, Title: Simple Spinach and Tomato Frittata, Used Ingredients: 2, Missed Ingredients: 2\n",
      "Used Ingredients: ['cherry tomatoes', 'spinach leaves']\n",
      "Missed Ingredients: ['personal skillet', 'eggs']\n",
      "----------------------------------------\n",
      "Recipe ID: 663748, Title: Traditional Apple Tart, Used Ingredients: 2, Missed Ingredients: 2\n",
      "Used Ingredients: ['granny smiths', 'butter']\n",
      "Missed Ingredients: ['blackcurrant jam', 'oz short crust pastry - ready made if you want']\n",
      "----------------------------------------\n",
      "Recipe ID: 640089, Title: Corn on the Cob in Cilantro and Lime Butter, Used Ingredients: 2, Missed Ingredients: 2\n",
      "Used Ingredients: ['butter', 'corn on the cob']\n",
      "Missed Ingredients: ['cilantro', 'lime']\n",
      "----------------------------------------\n",
      "Recipe ID: 645733, Title: Grilled Ham and Swiss Sandwich, Used Ingredients: 2, Missed Ingredients: 2\n",
      "Used Ingredients: ['pats of butter', 'ham']\n",
      "Missed Ingredients: ['swiss cheese', 'bread']\n",
      "----------------------------------------\n",
      "Recipe ID: 1674265, Title: Easy Tomato Soup, Used Ingredients: 2, Missed Ingredients: 2\n",
      "Used Ingredients: ['tomatoes', 'butter']\n",
      "Missed Ingredients: ['onion', 'vegetable broth']\n",
      "----------------------------------------\n"
     ]
    }
   ],
   "execution_count": 10
  },
  {
   "metadata": {
    "ExecuteTime": {
     "end_time": "2025-08-08T20:14:50.042629Z",
     "start_time": "2025-08-08T20:14:38.490909Z"
    }
   },
   "cell_type": "code",
   "source": [
    "from ultralytics import YOLO\n",
    "\n",
    "model = YOLO('best_v2.pt')\n",
    "model.save('best_v2_8.0.35.pt')"
   ],
   "id": "4e994acc9c9c71e6",
   "outputs": [
    {
     "name": "stderr",
     "output_type": "stream",
     "text": [
      "\n",
      "A module that was compiled using NumPy 1.x cannot be run in\n",
      "NumPy 2.2.6 as it may crash. To support both 1.x and 2.x\n",
      "versions of NumPy, modules must be compiled with NumPy 2.0.\n",
      "Some module may need to rebuild instead e.g. with 'pybind11>=2.12'.\n",
      "\n",
      "If you are a user of the module, the easiest solution will be to\n",
      "downgrade to 'numpy<2' or try to upgrade the affected module.\n",
      "We expect that some modules will need time to support NumPy 2.\n",
      "\n",
      "Traceback (most recent call last):  File \"<frozen runpy>\", line 198, in _run_module_as_main\n",
      "  File \"<frozen runpy>\", line 88, in _run_code\n",
      "  File \"C:\\Users\\bps78\\Documents\\GitHub\\AutoDJ\\.venv\\Lib\\site-packages\\ipykernel_launcher.py\", line 18, in <module>\n",
      "    app.launch_new_instance()\n",
      "  File \"C:\\Users\\bps78\\Documents\\GitHub\\AutoDJ\\.venv\\Lib\\site-packages\\traitlets\\config\\application.py\", line 1075, in launch_instance\n",
      "    app.start()\n",
      "  File \"C:\\Users\\bps78\\Documents\\GitHub\\AutoDJ\\.venv\\Lib\\site-packages\\ipykernel\\kernelapp.py\", line 739, in start\n",
      "    self.io_loop.start()\n",
      "  File \"C:\\Users\\bps78\\Documents\\GitHub\\AutoDJ\\.venv\\Lib\\site-packages\\tornado\\platform\\asyncio.py\", line 211, in start\n",
      "    self.asyncio_loop.run_forever()\n",
      "  File \"C:\\Users\\bps78\\AppData\\Local\\Programs\\Python\\Python311\\Lib\\asyncio\\base_events.py\", line 608, in run_forever\n",
      "    self._run_once()\n",
      "  File \"C:\\Users\\bps78\\AppData\\Local\\Programs\\Python\\Python311\\Lib\\asyncio\\base_events.py\", line 1936, in _run_once\n",
      "    handle._run()\n",
      "  File \"C:\\Users\\bps78\\AppData\\Local\\Programs\\Python\\Python311\\Lib\\asyncio\\events.py\", line 84, in _run\n",
      "    self._context.run(self._callback, *self._args)\n",
      "  File \"C:\\Users\\bps78\\Documents\\GitHub\\AutoDJ\\.venv\\Lib\\site-packages\\ipykernel\\kernelbase.py\", line 519, in dispatch_queue\n",
      "    await self.process_one()\n",
      "  File \"C:\\Users\\bps78\\Documents\\GitHub\\AutoDJ\\.venv\\Lib\\site-packages\\ipykernel\\kernelbase.py\", line 508, in process_one\n",
      "    await dispatch(*args)\n",
      "  File \"C:\\Users\\bps78\\Documents\\GitHub\\AutoDJ\\.venv\\Lib\\site-packages\\ipykernel\\kernelbase.py\", line 400, in dispatch_shell\n",
      "    await result\n",
      "  File \"C:\\Users\\bps78\\Documents\\GitHub\\AutoDJ\\.venv\\Lib\\site-packages\\ipykernel\\ipkernel.py\", line 368, in execute_request\n",
      "    await super().execute_request(stream, ident, parent)\n",
      "  File \"C:\\Users\\bps78\\Documents\\GitHub\\AutoDJ\\.venv\\Lib\\site-packages\\ipykernel\\kernelbase.py\", line 767, in execute_request\n",
      "    reply_content = await reply_content\n",
      "  File \"C:\\Users\\bps78\\Documents\\GitHub\\AutoDJ\\.venv\\Lib\\site-packages\\ipykernel\\ipkernel.py\", line 455, in do_execute\n",
      "    res = shell.run_cell(\n",
      "  File \"C:\\Users\\bps78\\Documents\\GitHub\\AutoDJ\\.venv\\Lib\\site-packages\\ipykernel\\zmqshell.py\", line 577, in run_cell\n",
      "    return super().run_cell(*args, **kwargs)\n",
      "  File \"C:\\Users\\bps78\\Documents\\GitHub\\AutoDJ\\.venv\\Lib\\site-packages\\IPython\\core\\interactiveshell.py\", line 3116, in run_cell\n",
      "    result = self._run_cell(\n",
      "  File \"C:\\Users\\bps78\\Documents\\GitHub\\AutoDJ\\.venv\\Lib\\site-packages\\IPython\\core\\interactiveshell.py\", line 3171, in _run_cell\n",
      "    result = runner(coro)\n",
      "  File \"C:\\Users\\bps78\\Documents\\GitHub\\AutoDJ\\.venv\\Lib\\site-packages\\IPython\\core\\async_helpers.py\", line 128, in _pseudo_sync_runner\n",
      "    coro.send(None)\n",
      "  File \"C:\\Users\\bps78\\Documents\\GitHub\\AutoDJ\\.venv\\Lib\\site-packages\\IPython\\core\\interactiveshell.py\", line 3394, in run_cell_async\n",
      "    has_raised = await self.run_ast_nodes(code_ast.body, cell_name,\n",
      "  File \"C:\\Users\\bps78\\Documents\\GitHub\\AutoDJ\\.venv\\Lib\\site-packages\\IPython\\core\\interactiveshell.py\", line 3639, in run_ast_nodes\n",
      "    if await self.run_code(code, result, async_=asy):\n",
      "  File \"C:\\Users\\bps78\\Documents\\GitHub\\AutoDJ\\.venv\\Lib\\site-packages\\IPython\\core\\interactiveshell.py\", line 3699, in run_code\n",
      "    exec(code_obj, self.user_global_ns, self.user_ns)\n",
      "  File \"C:\\Users\\bps78\\AppData\\Local\\Temp\\ipykernel_8580\\2769448798.py\", line 1, in <module>\n",
      "    from ultralytics import YOLO\n",
      "  File \"C:\\Users\\bps78\\Documents\\GitHub\\AutoDJ\\.venv\\Lib\\site-packages\\ultralytics\\__init__.py\", line 5, in <module>\n",
      "    from ultralytics.data.explorer.explorer import Explorer\n",
      "  File \"C:\\Users\\bps78\\Documents\\GitHub\\AutoDJ\\.venv\\Lib\\site-packages\\ultralytics\\data\\__init__.py\", line 3, in <module>\n",
      "    from .base import BaseDataset\n",
      "  File \"C:\\Users\\bps78\\Documents\\GitHub\\AutoDJ\\.venv\\Lib\\site-packages\\ultralytics\\data\\base.py\", line 17, in <module>\n",
      "    from ultralytics.data.utils import FORMATS_HELP_MSG, HELP_URL, IMG_FORMATS\n",
      "  File \"C:\\Users\\bps78\\Documents\\GitHub\\AutoDJ\\.venv\\Lib\\site-packages\\ultralytics\\data\\utils.py\", line 19, in <module>\n",
      "    from ultralytics.nn.autobackend import check_class_names\n",
      "  File \"C:\\Users\\bps78\\Documents\\GitHub\\AutoDJ\\.venv\\Lib\\site-packages\\ultralytics\\nn\\autobackend.py\", line 53, in <module>\n",
      "    class AutoBackend(nn.Module):\n",
      "  File \"C:\\Users\\bps78\\Documents\\GitHub\\AutoDJ\\.venv\\Lib\\site-packages\\ultralytics\\nn\\autobackend.py\", line 85, in AutoBackend\n",
      "    device=torch.device(\"cpu\"),\n",
      "C:\\Users\\bps78\\Documents\\GitHub\\AutoDJ\\.venv\\Lib\\site-packages\\ultralytics\\nn\\autobackend.py:85: UserWarning: Failed to initialize NumPy: _ARRAY_API not found (Triggered internally at ..\\torch\\csrc\\utils\\tensor_numpy.cpp:84.)\n",
      "  device=torch.device(\"cpu\"),\n"
     ]
    }
   ],
   "execution_count": 1
  }
 ],
 "metadata": {
  "kernelspec": {
   "display_name": "Python 3",
   "language": "python",
   "name": "python3"
  },
  "language_info": {
   "codemirror_mode": {
    "name": "ipython",
    "version": 2
   },
   "file_extension": ".py",
   "mimetype": "text/x-python",
   "name": "python",
   "nbconvert_exporter": "python",
   "pygments_lexer": "ipython2",
   "version": "2.7.6"
  }
 },
 "nbformat": 4,
 "nbformat_minor": 5
}
