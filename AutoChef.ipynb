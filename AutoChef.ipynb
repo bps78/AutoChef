{
 "cells": [
  {
   "metadata": {},
   "cell_type": "markdown",
   "source": "# AutoChef",
   "id": "7ae4fb54b8ab7ea6"
  },
  {
   "metadata": {},
   "cell_type": "markdown",
   "source": "## Prepare environment and process data",
   "id": "a223744fd8578d03"
  },
  {
   "metadata": {},
   "cell_type": "markdown",
   "source": [
    "Data Source: https://www.kaggle.com/datasets/irkaal/foodcom-recipes-and-reviews?resource=download\n",
    "\n",
    "Data Source v2: https://app.roboflow.com/bens-workspace-3xdyh/fridge-detection-aymme/browse?queryText=&pageSize=50&startingIndex=0&browseQuery=true"
   ],
   "id": "9cab27aba6e3d9f8"
  },
  {
   "metadata": {
    "ExecuteTime": {
     "end_time": "2025-08-06T16:50:12.861163Z",
     "start_time": "2025-08-06T16:49:56.022125Z"
    }
   },
   "cell_type": "code",
   "source": [
    "from transformers import AutoProcessor, AutoModelForZeroShotImageClassification\n",
    "import kagglehub\n",
    "import pandas as pd\n",
    "import numpy\n",
    "import re\n",
    "import PIL.Image\n",
    "from ultralytics import YOLO\n",
    "import torch\n",
    "import cv2"
   ],
   "id": "a42200c6c729d180",
   "outputs": [
    {
     "name": "stderr",
     "output_type": "stream",
     "text": [
      "C:\\Users\\bps78\\Documents\\GitHub\\AutoDJ\\.venv\\Lib\\site-packages\\tqdm\\auto.py:21: TqdmWarning: IProgress not found. Please update jupyter and ipywidgets. See https://ipywidgets.readthedocs.io/en/stable/user_install.html\n",
      "  from .autonotebook import tqdm as notebook_tqdm\n"
     ]
    }
   ],
   "execution_count": 1
  },
  {
   "metadata": {},
   "cell_type": "code",
   "source": "!pip install torch torchvision torchaudio",
   "id": "732c16d1419bf0af",
   "outputs": [],
   "execution_count": null
  },
  {
   "metadata": {},
   "cell_type": "code",
   "source": [
    "\n",
    "\n",
    "processor = AutoProcessor.from_pretrained(\"openai/clip-vit-base-patch32\")\n",
    "model = AutoModelForZeroShotImageClassification.from_pretrained(\"openai/clip-vit-base-patch32\")"
   ],
   "id": "fbc121e30a2defb3",
   "outputs": [],
   "execution_count": null
  },
  {
   "metadata": {},
   "cell_type": "code",
   "source": [
    "\n",
    "\n",
    "path = kagglehub.dataset_download(\"irkaal/foodcom-recipes-and-reviews\")\n",
    "\n",
    "print(\"Path to dataset files:\", path)"
   ],
   "id": "4d63b7772e167246",
   "outputs": [],
   "execution_count": null
  },
  {
   "metadata": {},
   "cell_type": "code",
   "source": "recipes = pd.read_csv(path + \"/recipes.csv\")",
   "id": "bcc4e60ccd6f6c71",
   "outputs": [],
   "execution_count": null
  },
  {
   "metadata": {},
   "cell_type": "code",
   "source": [
    "print(recipes.shape)\n",
    "display(recipes.head())\n",
    "print(recipes.columns)"
   ],
   "id": "bcb452ef96c5af1",
   "outputs": [],
   "execution_count": null
  },
  {
   "metadata": {},
   "cell_type": "code",
   "source": [
    "\n",
    "#Convert R-style vector strings to Python lists for 'RecipeIngredientParts' column\n",
    "def r_vector_to_list(s):\n",
    "    # Remove c( and )\n",
    "    s = s.strip()\n",
    "    s = re.sub(r'^c\\(|\\)$', '', s)\n",
    "    # Split by comma, strip quotes and whitespace\n",
    "    return [item.strip().strip('\"').strip(\"'\") for item in s.split(',')]\n",
    "\n",
    "recipes['RecipeIngredientParts'] = recipes['RecipeIngredientParts'].apply(r_vector_to_list)"
   ],
   "id": "e08edaeb266e07cc",
   "outputs": [],
   "execution_count": null
  },
  {
   "metadata": {},
   "cell_type": "markdown",
   "source": "## Core functionality",
   "id": "57e2aa0bc08b6c9e"
  },
  {
   "metadata": {},
   "cell_type": "code",
   "source": [
    "all_ingredients = recipes['RecipeIngredientParts'].explode().unique().tolist()\n",
    "print(len(all_ingredients))"
   ],
   "id": "7eab20641e839c8e",
   "outputs": [],
   "execution_count": null
  },
  {
   "metadata": {},
   "cell_type": "markdown",
   "source": "Use CLIP to match images to ingredients",
   "id": "bb3a6ac4e7fac64"
  },
  {
   "metadata": {},
   "cell_type": "code",
   "source": [
    "test_image = PIL.Image.open(\"fridge_test.jpg\")\n",
    "\n",
    "batch_size = 100\n",
    "ingredient_scores = []\n",
    "\n",
    "for i in range(0, len(all_ingredients), batch_size):\n",
    "    batch_ingredients = all_ingredients[i:i + batch_size]\n",
    "    inputs = processor(text=batch_ingredients, images=test_image, return_tensors=\"pt\", padding=True)\n",
    "    outputs = model(**inputs)\n",
    "    scores = outputs.logits_per_image[0].detach().cpu().numpy()\n",
    "    ingredient_scores.extend(zip(batch_ingredients, scores))"
   ],
   "id": "cb3410b5493045d2",
   "outputs": [],
   "execution_count": null
  },
  {
   "metadata": {},
   "cell_type": "code",
   "source": [
    "# Get the ingredients present in the image, sorted by score\n",
    "ingredient_scores.sort(key=lambda x: x[1], reverse=True)\n",
    "top_ingredients = [(ingredient, score) for ingredient, score in ingredient_scores if score > 20]\n",
    "print(\"Top ingredients in the image:\")\n",
    "for ingredient, score in top_ingredients:\n",
    "    print(f\"{ingredient}: {score:.4f}\")\n",
    "\n"
   ],
   "id": "e8e143c3e064dbd9",
   "outputs": [],
   "execution_count": null
  },
  {
   "metadata": {},
   "cell_type": "markdown",
   "source": "Use the dataset to find recipes that match a set of ingredients",
   "id": "f47ba9dc8c208ed4"
  },
  {
   "metadata": {},
   "cell_type": "markdown",
   "source": "## Take 2 - use YOLO for a simplified approach",
   "id": "a014be852acc2435"
  },
  {
   "metadata": {
    "ExecuteTime": {
     "end_time": "2025-08-05T00:32:44.399613Z",
     "start_time": "2025-08-05T00:32:44.260770Z"
    }
   },
   "cell_type": "code",
   "source": [
    "\n",
    "print(\"CUDA Available:\", torch.cuda.is_available())\n",
    "print(\"Device Name:\", torch.cuda.get_device_name(0) if torch.cuda.is_available() else \"No GPU\")\n",
    "\n",
    "print(torch.__version__)\n",
    "print(torch.version.cuda)\n"
   ],
   "id": "1a9d09664c981b4e",
   "outputs": [
    {
     "name": "stdout",
     "output_type": "stream",
     "text": [
      "CUDA Available: True\n",
      "Device Name: NVIDIA GeForce GTX 1660\n",
      "2.3.1+cu118\n",
      "11.8\n",
      "Torch: 2.3.1+cu118\n",
      "Torchvision: 0.18.1+cu118\n",
      "CUDA available: True\n",
      "tensor([0], device='cuda:0')\n"
     ]
    }
   ],
   "execution_count": 11
  },
  {
   "metadata": {
    "ExecuteTime": {
     "end_time": "2025-08-06T16:50:34.323545Z",
     "start_time": "2025-08-06T16:50:30.626587Z"
    }
   },
   "cell_type": "code",
   "source": [
    "# Load your trained model\n",
    "model = YOLO('best_v2.pt')\n",
    "\n",
    "# Load an image\n",
    "img = cv2.imread('fridge_test_2.jpg')\n",
    "\n",
    "# Run inference\n",
    "results = model(img)\n",
    "\n",
    "# Print detected objects\n",
    "for result in results:\n",
    "    boxes = result.boxes\n",
    "    for box in boxes:\n",
    "        class_idx = int(box.cls)\n",
    "        class_name = model.names[class_idx]\n",
    "        confidence = float(box.conf)\n",
    "        print(f\"Class: {class_name}, Confidence: {confidence:.2f}, Box: {box.xyxy}\")\n",
    "\n",
    "confidence_threshold = 0.7\n",
    "\n",
    "for result in results:\n",
    "    # Filter boxes by confidence\n",
    "    high_conf_boxes = [box for box in result.boxes if float(box.conf) > confidence_threshold]\n",
    "    if high_conf_boxes:\n",
    "        # Optionally, update result.boxes to only include high confidence boxes\n",
    "        result.boxes = high_conf_boxes\n",
    "        result.show()"
   ],
   "id": "6c2ba69f09ed27cd",
   "outputs": [
    {
     "name": "stdout",
     "output_type": "stream",
     "text": [
      "\n",
      "0: 640x640 1 apple, 1 butter, 1 carrot, 1 chicken, 1 corn, 1 green_beans, 1 ground_beef, 1 ham, 1 spinach, 2 sugars, 1 tomato, 14.4ms\n",
      "Speed: 8.3ms preprocess, 14.4ms inference, 477.6ms postprocess per image at shape (1, 3, 640, 640)\n",
      "Class: tomato, Confidence: 0.94, Box: tensor([[317.9568, 268.1198, 425.1532, 314.7433]], device='cuda:0')\n",
      "Class: apple, Confidence: 0.94, Box: tensor([[173.8641, 120.6684, 282.8015, 157.4133]], device='cuda:0')\n",
      "Class: chicken, Confidence: 0.93, Box: tensor([[168.5426, 258.2592, 292.6954, 313.8521]], device='cuda:0')\n",
      "Class: spinach, Confidence: 0.92, Box: tensor([[167.8266, 362.3416, 339.5656, 416.4059]], device='cuda:0')\n",
      "Class: sugar, Confidence: 0.88, Box: tensor([[420.7213, 491.2953, 489.9366, 570.9257]], device='cuda:0')\n",
      "Class: ground_beef, Confidence: 0.86, Box: tensor([[252.9537, 538.1412, 357.7353, 592.6963]], device='cuda:0')\n",
      "Class: corn, Confidence: 0.85, Box: tensor([[472.1060, 121.4534, 525.9878, 157.7587]], device='cuda:0')\n",
      "Class: green_beans, Confidence: 0.85, Box: tensor([[382.6111, 364.3743, 529.1273, 419.2668]], device='cuda:0')\n",
      "Class: butter, Confidence: 0.82, Box: tensor([[417.5353, 112.5489, 525.5894, 155.8389]], device='cuda:0')\n",
      "Class: sugar, Confidence: 0.81, Box: tensor([[182.5113, 499.4859, 256.0350, 577.7882]], device='cuda:0')\n",
      "Class: ham, Confidence: 0.77, Box: tensor([[370.7763, 571.4282, 523.2258, 608.0525]], device='cuda:0')\n",
      "Class: carrot, Confidence: 0.64, Box: tensor([[328.8063, 131.3010, 419.2739, 157.7039]], device='cuda:0')\n"
     ]
    }
   ],
   "execution_count": 3
  },
  {
   "metadata": {},
   "cell_type": "code",
   "outputs": [],
   "execution_count": null,
   "source": [
    "!pip install roboflow\n",
    "\n",
    "from roboflow import Roboflow\n",
    "rf = Roboflow(api_key=\"8zoDBiAT84ugEQEfOSDf\")\n",
    "project = rf.workspace(\"bens-workspace-3xdyh\").project(\"food-item-detection-fggyf-j86bp\")\n",
    "version = project.version(1)\n",
    "dataset = version.download(\"yolov8\")\n"
   ],
   "id": "eebcbe37ecec0dd0"
  }
 ],
 "metadata": {
  "kernelspec": {
   "display_name": "Python 3",
   "language": "python",
   "name": "python3"
  },
  "language_info": {
   "codemirror_mode": {
    "name": "ipython",
    "version": 2
   },
   "file_extension": ".py",
   "mimetype": "text/x-python",
   "name": "python",
   "nbconvert_exporter": "python",
   "pygments_lexer": "ipython2",
   "version": "2.7.6"
  }
 },
 "nbformat": 4,
 "nbformat_minor": 5
}
